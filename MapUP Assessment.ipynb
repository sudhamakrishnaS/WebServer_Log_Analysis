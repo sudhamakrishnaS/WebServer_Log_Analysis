{
 "cells": [
  {
   "cell_type": "code",
   "execution_count": 1,
   "metadata": {},
   "outputs": [
    {
     "name": "stdout",
     "output_type": "stream",
     "text": [
      "!!! Importing Basic Libraries !!!\n",
      "!!! Import Completed !!!\n"
     ]
    }
   ],
   "source": [
    "print(\"!!! Importing Basic Libraries !!!\")\n",
    " \n",
    "\n",
    "import pandas as pd\n",
    "import os \n",
    "from ftplib import FTP\n",
    "from datetime import datetime\n",
    "import re\n",
    "import gzip\n",
    "\n",
    "\n",
    "print(\"!!! Import Completed !!!\")"
   ]
  },
  {
   "cell_type": "code",
   "execution_count": 7,
   "metadata": {},
   "outputs": [
    {
     "name": "stdout",
     "output_type": "stream",
     "text": [
      "Download complete: calgary_access_log.gz\n",
      "C:\\Users\\99248\\Downloads\\calgary_access_log.gz\n"
     ]
    }
   ],
   "source": [
    "##============== Downloading the File ================##\n",
    "\n",
    "# FTP server and file path\n",
    "ftp_server = \"ita.ee.lbl.gov\"\n",
    "ftp_path = \"/traces/calgary_access_log.gz\"\n",
    "local_filename = \"calgary_access_log.gz\"\n",
    "\n",
    "\n",
    "\n",
    "downloads_dir = os.path.join(os.path.expanduser(\"~\"), \"Downloads\")\n",
    "local_filename = os.path.join(downloads_dir, \"calgary_access_log.gz\")\n",
    "\n",
    "\n",
    "# Connect to the FTP server\n",
    "ftp = FTP(ftp_server)\n",
    "ftp.login()\n",
    "\n",
    "# Download the file\n",
    "with open(local_filename, \"wb\") as f:\n",
    "    ftp.retrbinary(f\"RETR {ftp_path}\", f.write)\n",
    "\n",
    "ftp.quit()\n",
    "print(\"Download complete: calgary_access_log.gz\")\n",
    "print(local_filename)\n"
   ]
  },
  {
   "cell_type": "code",
   "execution_count": 9,
   "metadata": {},
   "outputs": [
    {
     "name": "stdout",
     "output_type": "stream",
     "text": [
      "    host                  timestamp    filename http_code    bytes  \\\n",
      "0  local  1994-10-24 13:41:41-06:00  index.html       200    150.0   \n",
      "1  local  1994-10-24 13:41:41-06:00       1.gif       200   1210.0   \n",
      "2  local  1994-10-24 13:43:13-06:00  index.html       200   3185.0   \n",
      "3  local  1994-10-24 13:43:14-06:00       2.gif       200   2555.0   \n",
      "4  local  1994-10-24 13:43:15-06:00       3.gif       200  36403.0   \n",
      "\n",
      "  file_extension  \n",
      "0           html  \n",
      "1            gif  \n",
      "2           html  \n",
      "3            gif  \n",
      "4            gif  \n",
      "(721478, 6)\n"
     ]
    },
    {
     "data": {
      "text/plain": [
       "host               object\n",
       "timestamp          object\n",
       "filename           object\n",
       "http_code          object\n",
       "bytes             float64\n",
       "file_extension     object\n",
       "dtype: object"
      ]
     },
     "execution_count": 9,
     "metadata": {},
     "output_type": "execute_result"
    }
   ],
   "source": [
    "# Load the plain text log file\n",
    "with open(r'C:\\Users\\99248\\Downloads\\calgary_access_log (1)', 'rt', errors='ignore') as f:\n",
    "    lines = f.readlines()\n",
    "\n",
    "\n",
    "# Parse each line\n",
    "entries = []\n",
    "for line in lines:\n",
    "    match = re.match(r'(\\S+) \\S+ \\S+ \\[(.*?)\\] \"GET (\\S+) HTTP/\\d\\.\\d\" (\\d{3}) (\\S+)', line)\n",
    "    if not match:\n",
    "        continue\n",
    "    host, timestamp_str, filename, http_code, byte_str = match.groups()\n",
    "    try:\n",
    "        timestamp = datetime.strptime(timestamp_str, '%d/%b/%Y:%H:%M:%S %z')\n",
    "    except ValueError:\n",
    "        continue\n",
    "    bytes_sent = int(byte_str) if byte_str.isdigit() else None\n",
    "    ext = filename.split('.')[-1] if '.' in filename else ''\n",
    "    entries.append([host, timestamp, filename, http_code, bytes_sent, ext])\n",
    "\n",
    "# Creating a DataFrame\n",
    "df = pd.DataFrame(entries, columns=['host', 'timestamp', 'filename', 'http_code', 'bytes', 'file_extension'])\n",
    "\n",
    "# Show the first few rows\n",
    "print(df.head())\n",
    "print(df.shape)\n",
    "df.dtypes\n"
   ]
  },
  {
   "cell_type": "code",
   "execution_count": 8,
   "metadata": {},
   "outputs": [
    {
     "name": "stdout",
     "output_type": "stream",
     "text": [
      "Q1: Total log records: 721478\n",
      "Q2: Unique hosts: 2\n",
      "Q3: Date-wise unique filename counts: {'01-Apr-1995': 407, '01-Aug-1995': 663, '01-Dec-1994': 243, '01-Feb-1995': 571, '01-Jan-1995': 82, '01-Jul-1995': 405, '01-Jun-1995': 569, '01-Mar-1995': 519, '01-May-1995': 432, '01-Nov-1994': 436, '01-Oct-1995': 582, '01-Sep-1995': 445, '02-Apr-1995': 392, '02-Aug-1995': 785, '02-Dec-1994': 355, '02-Feb-1995': 619, '02-Jan-1995': 128, '02-Jul-1995': 362, '02-Jun-1995': 546, '02-Mar-1995': 676, '02-May-1995': 693, '02-Nov-1994': 422, '02-Oct-1995': 839, '02-Sep-1995': 306, '03-Apr-1995': 813, '03-Aug-1995': 659, '03-Dec-1994': 151, '03-Feb-1995': 566, '03-Jan-1995': 257, '03-Jul-1995': 460, '03-Jun-1995': 396, '03-Mar-1995': 502, '03-May-1995': 565, '03-Nov-1994': 450, '03-Oct-1995': 833, '03-Sep-1995': 207, '04-Apr-1995': 862, '04-Aug-1995': 739, '04-Dec-1994': 208, '04-Feb-1995': 450, '04-Jan-1995': 313, '04-Jul-1995': 490, '04-Jun-1995': 323, '04-Mar-1995': 364, '04-May-1995': 700, '04-Nov-1994': 417, '04-Oct-1995': 908, '04-Sep-1995': 309, '05-Apr-1995': 830, '05-Aug-1995': 497, '05-Dec-1994': 294, '05-Feb-1995': 535, '05-Jan-1995': 320, '05-Jul-1995': 647, '05-Jun-1995': 461, '05-Mar-1995': 406, '05-May-1995': 531, '05-Nov-1994': 274, '05-Oct-1995': 861, '05-Sep-1995': 464, '06-Apr-1995': 776, '06-Aug-1995': 448, '06-Dec-1994': 371, '06-Feb-1995': 571, '06-Jan-1995': 216, '06-Jul-1995': 486, '06-Jun-1995': 629, '06-Mar-1995': 698, '06-May-1995': 508, '06-Nov-1994': 200, '06-Oct-1995': 899, '06-Sep-1995': 475, '07-Apr-1995': 722, '07-Aug-1995': 592, '07-Dec-1994': 345, '07-Feb-1995': 715, '07-Jan-1995': 153, '07-Jul-1995': 447, '07-Jun-1995': 522, '07-Mar-1995': 731, '07-May-1995': 677, '07-Nov-1994': 278, '07-Oct-1995': 535, '07-Sep-1995': 610, '08-Apr-1995': 616, '08-Aug-1995': 661, '08-Dec-1994': 369, '08-Feb-1995': 629, '08-Jan-1995': 137, '08-Jul-1995': 298, '08-Jun-1995': 640, '08-Mar-1995': 648, '08-May-1995': 755, '08-Nov-1994': 319, '08-Oct-1995': 518, '08-Sep-1995': 703, '09-Apr-1995': 565, '09-Aug-1995': 668, '09-Dec-1994': 358, '09-Feb-1995': 665, '09-Jan-1995': 394, '09-Jul-1995': 215, '09-Jun-1995': 440, '09-Mar-1995': 612, '09-May-1995': 716, '09-Nov-1994': 325, '09-Oct-1995': 674, '09-Sep-1995': 474, '10-Apr-1995': 773, '10-Aug-1995': 652, '10-Dec-1994': 214, '10-Feb-1995': 804, '10-Jan-1995': 354, '10-Jul-1995': 452, '10-Jun-1995': 361, '10-Mar-1995': 773, '10-May-1995': 743, '10-Nov-1994': 348, '10-Oct-1995': 869, '10-Sep-1995': 400, '11-Apr-1995': 834, '11-Aug-1995': 453, '11-Dec-1994': 164, '11-Feb-1995': 390, '11-Jan-1995': 384, '11-Jul-1995': 580, '11-Jun-1995': 312, '11-Mar-1995': 524, '11-May-1995': 683, '11-Nov-1994': 307, '11-Oct-1995': 792, '11-Sep-1995': 684, '12-Apr-1995': 846, '12-Aug-1995': 354, '12-Dec-1994': 402, '12-Feb-1995': 444, '12-Jan-1995': 457, '12-Jul-1995': 473, '12-Jun-1995': 479, '12-Mar-1995': 450, '12-May-1995': 486, '12-Nov-1994': 162, '12-Sep-1995': 773, '13-Apr-1995': 632, '13-Aug-1995': 400, '13-Dec-1994': 354, '13-Feb-1995': 646, '13-Jan-1995': 424, '13-Jul-1995': 533, '13-Jun-1995': 484, '13-Mar-1995': 701, '13-May-1995': 316, '13-Nov-1994': 185, '13-Sep-1995': 779, '14-Apr-1995': 447, '14-Aug-1995': 607, '14-Dec-1994': 340, '14-Feb-1995': 701, '14-Jan-1995': 246, '14-Jul-1995': 515, '14-Jun-1995': 618, '14-Mar-1995': 925, '14-May-1995': 262, '14-Nov-1994': 344, '14-Sep-1995': 699, '15-Apr-1995': 426, '15-Aug-1995': 485, '15-Dec-1994': 261, '15-Feb-1995': 783, '15-Jan-1995': 219, '15-Jul-1995': 409, '15-Jun-1995': 511, '15-Mar-1995': 802, '15-May-1995': 569, '15-Nov-1994': 313, '15-Sep-1995': 723, '16-Apr-1995': 459, '16-Aug-1995': 611, '16-Dec-1994': 330, '16-Feb-1995': 674, '16-Jan-1995': 423, '16-Jul-1995': 305, '16-Jun-1995': 500, '16-Mar-1995': 794, '16-May-1995': 466, '16-Nov-1994': 397, '16-Sep-1995': 590, '17-Apr-1995': 453, '17-Aug-1995': 527, '17-Dec-1994': 338, '17-Feb-1995': 625, '17-Jan-1995': 358, '17-Jul-1995': 529, '17-Jun-1995': 379, '17-Mar-1995': 489, '17-May-1995': 492, '17-Nov-1994': 401, '17-Sep-1995': 461, '18-Apr-1995': 425, '18-Aug-1995': 537, '18-Dec-1994': 324, '18-Feb-1995': 510, '18-Jan-1995': 410, '18-Jul-1995': 535, '18-Jun-1995': 367, '18-Mar-1995': 358, '18-May-1995': 516, '18-Nov-1994': 358, '18-Sep-1995': 633, '19-Apr-1995': 630, '19-Aug-1995': 338, '19-Dec-1994': 336, '19-Feb-1995': 446, '19-Jan-1995': 453, '19-Jul-1995': 533, '19-Jun-1995': 572, '19-Mar-1995': 485, '19-May-1995': 528, '19-Nov-1994': 319, '19-Sep-1995': 740, '20-Apr-1995': 657, '20-Aug-1995': 396, '20-Dec-1994': 356, '20-Feb-1995': 448, '20-Jan-1995': 534, '20-Jul-1995': 576, '20-Jun-1995': 512, '20-Mar-1995': 519, '20-May-1995': 312, '20-Nov-1994': 193, '20-Sep-1995': 770, '21-Apr-1995': 742, '21-Aug-1995': 543, '21-Dec-1994': 265, '21-Feb-1995': 503, '21-Jan-1995': 294, '21-Jul-1995': 688, '21-Jun-1995': 609, '21-Mar-1995': 766, '21-May-1995': 273, '21-Nov-1994': 350, '21-Sep-1995': 827, '22-Apr-1995': 443, '22-Aug-1995': 592, '22-Dec-1994': 278, '22-Feb-1995': 642, '22-Jan-1995': 257, '22-Jul-1995': 365, '22-Jun-1995': 621, '22-Mar-1995': 698, '22-May-1995': 412, '22-Nov-1994': 324, '22-Sep-1995': 669, '23-Apr-1995': 338, '23-Aug-1995': 670, '23-Dec-1994': 157, '23-Feb-1995': 642, '23-Jan-1995': 414, '23-Jul-1995': 496, '23-Jun-1995': 588, '23-Mar-1995': 803, '23-May-1995': 574, '23-Nov-1994': 338, '23-Sep-1995': 543, '24-Apr-1995': 460, '24-Aug-1995': 547, '24-Dec-1994': 88, '24-Feb-1995': 564, '24-Jan-1995': 404, '24-Jul-1995': 576, '24-Jun-1995': 279, '24-Mar-1995': 634, '24-May-1995': 507, '24-Nov-1994': 360, '24-Oct-1994': 158, '24-Sep-1995': 512, '25-Apr-1995': 621, '25-Aug-1995': 586, '25-Dec-1994': 47, '25-Feb-1995': 340, '25-Jan-1995': 442, '25-Jul-1995': 561, '25-Jun-1995': 643, '25-Mar-1995': 570, '25-May-1995': 460, '25-Nov-1994': 335, '25-Oct-1994': 331, '25-Sep-1995': 754, '26-Apr-1995': 617, '26-Aug-1995': 409, '26-Dec-1994': 108, '26-Feb-1995': 517, '26-Jan-1995': 372, '26-Jul-1995': 661, '26-Jun-1995': 546, '26-Mar-1995': 523, '26-May-1995': 520, '26-Nov-1994': 234, '26-Oct-1994': 317, '26-Sep-1995': 808, '27-Apr-1995': 654, '27-Aug-1995': 379, '27-Dec-1994': 158, '27-Feb-1995': 490, '27-Jan-1995': 478, '27-Jul-1995': 618, '27-Jun-1995': 542, '27-Mar-1995': 775, '27-May-1995': 227, '27-Nov-1994': 228, '27-Oct-1994': 432, '27-Sep-1995': 816, '28-Apr-1995': 571, '28-Aug-1995': 560, '28-Dec-1994': 121, '28-Feb-1995': 531, '28-Jan-1995': 411, '28-Jul-1995': 541, '28-Jun-1995': 616, '28-Mar-1995': 758, '28-May-1995': 222, '28-Nov-1994': 306, '28-Oct-1994': 393, '28-Sep-1995': 917, '29-Apr-1995': 440, '29-Aug-1995': 513, '29-Dec-1994': 174, '29-Jan-1995': 287, '29-Jul-1995': 416, '29-Jun-1995': 494, '29-Mar-1995': 934, '29-May-1995': 411, '29-Nov-1994': 419, '29-Oct-1994': 236, '29-Sep-1995': 835, '30-Apr-1995': 292, '30-Aug-1995': 611, '30-Dec-1994': 130, '30-Jan-1995': 546, '30-Jul-1995': 429, '30-Jun-1995': 457, '30-Mar-1995': 769, '30-May-1995': 580, '30-Nov-1994': 421, '30-Oct-1994': 204, '30-Sep-1995': 642, '31-Aug-1995': 472, '31-Dec-1994': 74, '31-Jan-1995': 524, '31-Jul-1995': 618, '31-Mar-1995': 1005, '31-May-1995': 606, '31-Oct-1994': 350}\n",
      "Q4: Number of 404 response codes: 23348\n",
      "Q5: Top 15 filenames with 404 responses: {'index.html': 4671, '4115.html': 900, '1611.html': 649, '5698.xbm': 585, '710.txt': 400, '2002.html': 255, '2177.gif': 193, '10695.ps': 161, '487.gif': 152, '6555.html': 150, '151.html': 148, '40.html': 148, '488.gif': 148, '3414.gif': 148, '9678.gif': 142}\n",
      "Q6: Top 15 file extensions with 404 responses: {'html': 12085, 'gif': 7202, 'xbm': 824, 'ps': 754, 'jpg': 520, 'txt': 488, 'GIF': 135, 'htm': 107, 'cgi': 63, 'com': 45, 'gif\"': 45, 'Z': 41, 'dvi': 40, 'com/': 37, 'ca': 35}\n",
      "Q7: Total bandwidth transferred per day for July 1995: {'01-Jul-1995': 16986893.0, '02-Jul-1995': 7892436.0, '03-Jul-1995': 11739190.0, '04-Jul-1995': 24976177.0, '05-Jul-1995': 22468066.0, '06-Jul-1995': 20419373.0, '07-Jul-1995': 9566244.0, '08-Jul-1995': 5475250.0, '09-Jul-1995': 4312672.0, '10-Jul-1995': 13195178.0, '11-Jul-1995': 22694805.0, '12-Jul-1995': 17861622.0, '13-Jul-1995': 15959344.0, '14-Jul-1995': 16143956.0, '15-Jul-1995': 17900110.0, '16-Jul-1995': 8086988.0, '17-Jul-1995': 18423405.0, '18-Jul-1995': 17947142.0, '19-Jul-1995': 16164044.0, '20-Jul-1995': 25504026.0, '21-Jul-1995': 25910651.0, '22-Jul-1995': 6224677.0, '23-Jul-1995': 10089651.0, '24-Jul-1995': 20554069.0, '25-Jul-1995': 23269918.0, '26-Jul-1995': 26190398.0, '27-Jul-1995': 22953077.0, '28-Jul-1995': 37450120.0, '29-Jul-1995': 16285535.0, '30-Jul-1995': 21147546.0, '31-Jul-1995': 29819458.0}\n",
      "Q8: Hourly request distribution: {0: 39436, 1: 32492, 2: 30606, 3: 28069, 4: 25900, 5: 22697, 6: 19666, 7: 16852, 8: 13789, 9: 11352, 10: 10512, 11: 10339, 12: 12248, 13: 15106, 14: 22004, 15: 30841, 16: 37891, 17: 46165, 18: 45641, 19: 49892, 20: 50903, 21: 52751, 22: 50272, 23: 46054}\n"
     ]
    },
    {
     "name": "stdout",
     "output_type": "stream",
     "text": [
      "Q9: Top 10 most requested filenames: {'index.html': 139179, '3.gif': 24001, '2.gif': 23590, '4.gif': 8014, '244.gif': 5147, '5.html': 5004, '4097.gif': 4874, '8870.jpg': 4492, '6733.gif': 4278, '8472.gif': 3843}\n",
      "Q10: HTTP response code distribution: {'200': 565511, '304': 97560, '302': 30221, '404': 23348, '403': 4737, '401': 46, '500': 42, '400': 13}\n"
     ]
    }
   ],
   "source": [
    "# Q1: Count of total log records\n",
    "def total_log_records(df):\n",
    "    return len(df)\n",
    "\n",
    "# Q2: Count of unique hosts\n",
    "def unique_hosts(df):\n",
    "    return df['host'].nunique()\n",
    "\n",
    "# Q3: Date-wise unique filename counts\n",
    "def date_wise_unique_filenames(df):\n",
    "    df['timestamp'] = pd.to_datetime(df['timestamp'], utc=True)\n",
    "    df['date'] = df['timestamp'].dt.strftime('%d-%b-%Y')\n",
    "    return df.groupby('date')['filename'].nunique().to_dict()\n",
    "\n",
    "\n",
    "# Q4: Number of 404 response codes\n",
    "def count_404_responses(df):\n",
    "    return df[df['http_code'] == '404'].shape[0]\n",
    "\n",
    "# Q5: Top 15 filenames with 404 responses\n",
    "def top_15_filenames_404(df):\n",
    "    return df[df['http_code'] == '404']['filename'].value_counts().head(15).to_dict()\n",
    "\n",
    "# Q6: Top 15 file extensions with 404 responses\n",
    "def top_15_extensions_404(df):\n",
    "    return df[df['http_code'] == '404']['file_extension'].value_counts().head(15).to_dict()\n",
    "\n",
    "# Q7: Total bandwidth transferred per day for July 1995\n",
    "def bandwidth_per_day_july_1995(df):\n",
    "    df_july_1995 = df[(df['timestamp'].dt.month == 7) & (df['timestamp'].dt.year == 1995)]\n",
    "    df_july_1995 = df_july_1995.dropna(subset=['bytes'])\n",
    "    df_july_1995['date'] = df_july_1995['timestamp'].dt.strftime('%d-%b-%Y')\n",
    "    return df_july_1995.groupby('date')['bytes'].sum().to_dict()\n",
    "\n",
    "# Q8: Hourly request distribution\n",
    "def hourly_request_distribution(df):\n",
    "    df['hour'] = df['timestamp'].dt.hour\n",
    "    return df['hour'].value_counts().sort_index().to_dict()\n",
    "\n",
    "# Q9: Top 10 most requested filenames\n",
    "def top_10_filenames(df):\n",
    "    return df['filename'].value_counts().head(10).to_dict()\n",
    "\n",
    "# Q10: HTTP response code distribution\n",
    "def http_code_distribution(df):\n",
    "    return df['http_code'].value_counts().to_dict()\n",
    "\n",
    "# Execute the functions and print the results\n",
    "print(\"Q1: Total log records:\",total_log_records(df))\n",
    "print(\"Q2: Unique hosts:\", unique_hosts(df))\n",
    "print(\"Q3: Date-wise unique filename counts:\", date_wise_unique_filenames(df))\n",
    "print(\"Q4: Number of 404 response codes:\", count_404_responses(df))\n",
    "print(\"Q5: Top 15 filenames with 404 responses:\", top_15_filenames_404(df))\n",
    "print(\"Q6: Top 15 file extensions with 404 responses:\", top_15_extensions_404(df))\n",
    "print(\"Q7: Total bandwidth transferred per day for July 1995:\", bandwidth_per_day_july_1995(df))\n",
    "print(\"Q8: Hourly request distribution:\", hourly_request_distribution(df))\n",
    "print(\"Q9: Top 10 most requested filenames:\", top_10_filenames(df))\n",
    "print(\"Q10: HTTP response code distribution:\", http_code_distribution(df))\n"
   ]
  },
  {
   "cell_type": "code",
   "execution_count": null,
   "metadata": {},
   "outputs": [],
   "source": []
  }
 ],
 "metadata": {
  "kernelspec": {
   "display_name": "Python 3",
   "language": "python",
   "name": "python3"
  },
  "language_info": {
   "codemirror_mode": {
    "name": "ipython",
    "version": 3
   },
   "file_extension": ".py",
   "mimetype": "text/x-python",
   "name": "python",
   "nbconvert_exporter": "python",
   "pygments_lexer": "ipython3",
   "version": "3.6.5"
  }
 },
 "nbformat": 4,
 "nbformat_minor": 2
}
